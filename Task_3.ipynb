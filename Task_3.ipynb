{
  "nbformat": 4,
  "nbformat_minor": 0,
  "metadata": {
    "colab": {
      "provenance": [],
      "authorship_tag": "ABX9TyM4kHk4vNhXlmW1U5fZVsQ7"
    },
    "kernelspec": {
      "name": "python3",
      "display_name": "Python 3"
    },
    "language_info": {
      "name": "python"
    }
  },
  "cells": [
    {
      "cell_type": "code",
      "execution_count": null,
      "metadata": {
        "colab": {
          "base_uri": "https://localhost:8080/"
        },
        "id": "dBYW2kIuC_4O",
        "outputId": "4f3953bd-0f5e-4fc5-c9b9-085ccf8f4e34"
      },
      "outputs": [
        {
          "name": "stdout",
          "output_type": "stream",
          "text": [
            "Enter a password to assess its strength (or type 'q' to quit): abcd\n",
            "Password is weak.\n",
            "Enter a password to assess its strength (or type 'q' to quit): Abcd\n",
            "Password is medium.\n",
            "Enter a password to assess its strength (or type 'q' to quit): ABcd@\n",
            "Password is strong.\n",
            "Enter a password to assess its strength (or type 'q' to quit): Abcde@123\n",
            "Password is very strong.\n",
            "Enter a password to assess its strength (or type 'q' to quit): q\n"
          ]
        }
      ],
      "source": [
        "def check_password_strength(password):\n",
        "    # Criteria\n",
        "    length_criteria = len(password) >= 8\n",
        "    uppercase_criteria = any(char.isupper() for char in password)\n",
        "    lowercase_criteria = any(char.islower() for char in password)\n",
        "    digit_criteria = any(char.isdigit() for char in password)\n",
        "    special_char_criteria = any(not char.isalnum() for char in password)\n",
        "\n",
        "    # Strength calculation\n",
        "    strength = 0\n",
        "    if length_criteria:\n",
        "        strength += 1\n",
        "    if uppercase_criteria:\n",
        "        strength += 1\n",
        "    if lowercase_criteria:\n",
        "        strength += 1\n",
        "    if digit_criteria:\n",
        "        strength += 1\n",
        "    if special_char_criteria:\n",
        "        strength += 1\n",
        "\n",
        "    return strength\n",
        "\n",
        "\n",
        "while True:\n",
        "        password = input(\"Enter a password to assess its strength (or type 'q' to quit): \")\n",
        "        if password == 'q':\n",
        "            break\n",
        "        strength = check_password_strength(password)\n",
        "        if strength == 5:\n",
        "            print(\"Password is very strong.\")\n",
        "        elif strength >= 3:\n",
        "            print(\"Password is strong.\")\n",
        "        elif strength >= 2:\n",
        "            print(\"Password is medium.\")\n",
        "        else:\n",
        "            print(\"Password is weak.\")"
      ]
    }
  ]
}